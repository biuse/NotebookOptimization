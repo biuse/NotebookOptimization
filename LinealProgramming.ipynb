{
 "cells": [
  {
   "cell_type": "markdown",
   "metadata": {},
   "source": [
    "PROGRAMACIÓN LINEAL EJEMPLO: \n",
    "ejemplo sencillo   \n",
    "\n",
    "minimizar \n",
    "\n",
    "          z=x1-3x2\n",
    "\n",
    "sujeto a  \n",
    "           \n",
    "          2x1+x2<=10\n",
    "\n",
    "          x1,x2>=0\n",
    "\n"
   ]
  },
  {
   "cell_type": "code",
   "execution_count": 22,
   "metadata": {},
   "outputs": [],
   "source": [
    "import numpy as np\n",
    "import scipy.optimize as opt"
   ]
  },
  {
   "cell_type": "code",
   "execution_count": 23,
   "metadata": {},
   "outputs": [],
   "source": [
    "# definimos funcion \n",
    "def func(x):\n",
    "    return x[0]-3*x[1]\n"
   ]
  },
  {
   "cell_type": "markdown",
   "metadata": {},
   "source": [
    "Resolvemos con optimize.minimize method= ***trust-constr***, que es el que mejor funciona con varios tipos de problemas. \n",
    "\n",
    "Hace falta poner las desigualdades en un objeto: \n",
    "\n",
    "     LinearConstraint(A, lb, ub)  donde lb <= A.dot(x) <= ub.  \n",
    "     A tiene dimension num variables = 2 x numero de inequaciones en este caso 2, \n",
    "el resto vendra definido en bounds\n",
    "\n",
    "     Bounds=[LB, UB] (Ej. x1>0 o 0<x2>3)"
   ]
  },
  {
   "cell_type": "code",
   "execution_count": 24,
   "metadata": {},
   "outputs": [],
   "source": [
    "# Hay que importar objetos Bouds y LinearConstraint\n",
    "from scipy.optimize import Bounds\n",
    "from scipy.optimize import LinearConstraint\n",
    "# El método por default te pide el gradiente\n",
    "def jac(x):\n",
    "    return [1.,-3.]"
   ]
  },
  {
   "cell_type": "code",
   "execution_count": 25,
   "metadata": {},
   "outputs": [
    {
     "name": "stdout",
     "output_type": "stream",
     "text": [
      "`gtol` termination condition is satisfied.\n",
      "Number of iterations: 13, function evaluations: 9, CG iterations: 8, optimality: 1.36e-09, constraint violation: 0.00e+00, execution time: 0.036 s.\n"
     ]
    }
   ],
   "source": [
    "bounds=Bounds([0,0],[np.inf,np.inf]) # [valores minimos variables], [valores maximos variables]\n",
    "lb=[-np.inf] # si tuvieramos más desigualdades tantos valores como inecuaciones\n",
    "ub=[10]  # si tuvieramos más desigualdades tantos valores como inecuaciones\n",
    "A=[2,1] # si tenemos más desigualdades las vamos añadiendo [[-2,1],[2,2]], en forma de matriz\n",
    "LinCons=LinearConstraint(A,lb,ub)\n",
    "res = opt.minimize(func, [1,1], method='trust-constr', jac=jac,hess='3-point',constraints=LinCons,options={'verbose': 1}, bounds=bounds)"
   ]
  },
  {
   "cell_type": "code",
   "execution_count": 27,
   "metadata": {},
   "outputs": [
    {
     "name": "stdout",
     "output_type": "stream",
     "text": [
      " barrier_parameter: 0.00016000000000000007\n",
      " barrier_tolerance: 0.00016000000000000007\n",
      "          cg_niter: 8\n",
      "      cg_stop_cond: 4\n",
      "            constr: [array([9.99993385]), array([1.81980644e-05, 9.99989745e+00])]\n",
      "       constr_nfev: [0, 0]\n",
      "       constr_nhev: [0, 0]\n",
      "       constr_njev: [0, 0]\n",
      "    constr_penalty: 1.0\n",
      "  constr_violation: 0.0\n",
      "    execution_time: 0.03643083572387695\n",
      "               fun: -29.99967416456443\n",
      "              grad: array([ 1., -3.])\n",
      "               jac: [array([[2, 1]]), array([[1., 0.],\n",
      "       [0., 1.]])]\n",
      "   lagrangian_grad: array([-5.93495031e-10, -1.35647499e-09])\n",
      "           message: '`gtol` termination condition is satisfied.'\n",
      "            method: 'tr_interior_point'\n",
      "              nfev: 9\n",
      "              nhev: 0\n",
      "             niter: 13\n",
      "              njev: 67\n",
      "        optimality: 1.3564749854813043e-09\n",
      "            status: 1\n",
      "         tr_radius: 24013.375604452758\n",
      "                 v: [array([3.000016]), array([-7.00003200e+00, -1.60001505e-05])]\n",
      "                 x: array([1.81980644e-05, 9.99989745e+00])\n"
     ]
    }
   ],
   "source": [
    "print res"
   ]
  },
  {
   "cell_type": "code",
   "execution_count": 26,
   "metadata": {},
   "outputs": [
    {
     "name": "stdout",
     "output_type": "stream",
     "text": [
      "optimal point [ 0. 10.] function value -29.99967416456443\n"
     ]
    }
   ],
   "source": [
    "print 'optimal point',np.round(res.x),'function value',res.fun"
   ]
  },
  {
   "cell_type": "code",
   "execution_count": 19,
   "metadata": {},
   "outputs": [],
   "source": [
    "#podemos probar a añadir la desigualdad x+x2<0 (que es incompatible con las de arriba) \n"
   ]
  },
  {
   "cell_type": "code",
   "execution_count": null,
   "metadata": {},
   "outputs": [],
   "source": []
  }
 ],
 "metadata": {
  "kernelspec": {
   "display_name": "Python 2",
   "language": "python",
   "name": "python2"
  },
  "language_info": {
   "codemirror_mode": {
    "name": "ipython",
    "version": 2
   },
   "file_extension": ".py",
   "mimetype": "text/x-python",
   "name": "python",
   "nbconvert_exporter": "python",
   "pygments_lexer": "ipython2",
   "version": "2.7.15"
  }
 },
 "nbformat": 4,
 "nbformat_minor": 2
}
