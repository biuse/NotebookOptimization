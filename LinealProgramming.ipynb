{
 "cells": [
  {
   "cell_type": "markdown",
   "metadata": {},
   "source": [
    "PROGRAMACIÓN LINEAL EJEMPLO: \n",
    "ejemplo sencillo   \n",
    "\n",
    "minimizar \n",
    "\n",
    "          z=x1-3x2\n",
    "\n",
    "sujeto a  \n",
    "           \n",
    "          2x1+x2<=10\n",
    "\n",
    "          x1,x2>=0\n",
    "\n"
   ]
  },
  {
   "cell_type": "code",
   "execution_count": 6,
   "metadata": {},
   "outputs": [],
   "source": [
    "import numpy as np\n",
    "import scipy.optimize as opt"
   ]
  },
  {
   "cell_type": "code",
   "execution_count": 8,
   "metadata": {},
   "outputs": [],
   "source": [
    "# definimos funcion y gradiente\n",
    "def func(x):\n",
    "    return x[0]-3*x[1]\n",
    "def jac(x):\n",
    "    return [1.,-3.]"
   ]
  },
  {
   "cell_type": "markdown",
   "metadata": {},
   "source": [
    "Resolvemos con optimize.minimize method= ***trust-constr***, que es el que mejor funciona con varios tipos de problemas. \n",
    "\n",
    "Hace falta poner las desigualdades en un objeto: \n",
    "\n",
    "     LinearConstraint(A, lb, ub)  donde lb <= A.dot(x) <= ub.  \n",
    "     A tiene dimension num variables = 2 x numero de inequaciones en este caso 2, \n",
    "el resto vendra definido en bounds\n",
    "\n",
    "     Bounds=[LB, UB] (Ej. x1>0 o 0<x2>3)"
   ]
  },
  {
   "cell_type": "code",
   "execution_count": 9,
   "metadata": {},
   "outputs": [],
   "source": [
    "# Hay que importar objetos Bouds y LinearConstraint\n",
    "from scipy.optimize import Bounds\n",
    "from scipy.optimize import LinearConstraint\n"
   ]
  },
  {
   "cell_type": "code",
   "execution_count": 17,
   "metadata": {},
   "outputs": [
    {
     "name": "stdout",
     "output_type": "stream",
     "text": [
      "`xtol` termination condition is satisfied.\n",
      "Number of iterations: 340, function evaluations: 581, CG iterations: 328, optimality: 2.94e+00, constraint violation: 0.00e+00, execution time: 0.55 s.\n"
     ]
    }
   ],
   "source": [
    "bounds=Bounds([0,0],[np.inf,np.inf]) # [valores minimos variables], [valores maximos variables]\n",
    "lb=[-np.inf] # si tuvieramos más desigualdades tantos valores como inecuaciones\n",
    "ub=[10]  # si tuvieramos más desigualdades tantos valores como inecuaciones\n",
    "A=[2,1] # si tenemos más desigualdades las vamos añadiendo [[-2,1],[2,2]], en forma de matriz\n",
    "LinCons=LinearConstraint(A,lb,ub)\n",
    "res = opt.minimize(func, [3,6], method='trust-constr', jac=jac,hess='3-point',constraints=LinCons,options={'verbose': 1}, bounds=bounds)"
   ]
  },
  {
   "cell_type": "code",
   "execution_count": 18,
   "metadata": {},
   "outputs": [
    {
     "name": "stdout",
     "output_type": "stream",
     "text": [
      " barrier_parameter: 2.048000000000001e-09\n",
      " barrier_tolerance: 2.048000000000001e-09\n",
      "          cg_niter: 328\n",
      "      cg_stop_cond: 2\n",
      "            constr: [array([9.6008965]), array([3.98819827, 1.62449997])]\n",
      "       constr_nfev: [0, 0]\n",
      "       constr_nhev: [0, 0]\n",
      "       constr_njev: [0, 0]\n",
      "    constr_penalty: 1.0\n",
      "  constr_violation: 0.0\n",
      "    execution_time: 0.5476901531219482\n",
      "               fun: -10.318655762817032\n",
      "              grad: array([-3.24899993,  3.24899993])\n",
      "               jac: [array([[2, 1]]), array([[1., 0.],\n",
      "       [0., 1.]])]\n",
      "   lagrangian_grad: array([-1.53560527,  2.94244166])\n",
      "           message: '`xtol` termination condition is satisfied.'\n",
      "            method: 'tr_interior_point'\n",
      "              nfev: 581\n",
      "              nhev: 0\n",
      "             niter: 340\n",
      "              njev: 1987\n",
      "        optimality: 2.942441655606777\n",
      "            status: 2\n",
      "         tr_radius: 6.436657505377512e-09\n",
      "                 v: [array([0.80842524]), array([ 0.09654418, -1.11498352])]\n",
      "                 x: array([3.98819827, 1.62449997])\n"
     ]
    }
   ],
   "source": [
    "print res"
   ]
  },
  {
   "cell_type": "code",
   "execution_count": 20,
   "metadata": {},
   "outputs": [
    {
     "name": "stdout",
     "output_type": "stream",
     "text": [
      " optimal point [5. 0.] function value -9.99882671574023\n"
     ]
    }
   ],
   "source": [
    "print 'optimal point',np.round(res.x),'function value',res.fun"
   ]
  },
  {
   "cell_type": "code",
   "execution_count": 19,
   "metadata": {},
   "outputs": [],
   "source": [
    "#podemos probar a añadir la desigualdad x+x2<0 (que es incompatible con las de arriba) "
   ]
  },
  {
   "cell_type": "code",
   "execution_count": null,
   "metadata": {},
   "outputs": [],
   "source": []
  }
 ],
 "metadata": {
  "kernelspec": {
   "display_name": "Python 2",
   "language": "python",
   "name": "python2"
  },
  "language_info": {
   "codemirror_mode": {
    "name": "ipython",
    "version": 2
   },
   "file_extension": ".py",
   "mimetype": "text/x-python",
   "name": "python",
   "nbconvert_exporter": "python",
   "pygments_lexer": "ipython2",
   "version": "2.7.15"
  }
 },
 "nbformat": 4,
 "nbformat_minor": 2
}
